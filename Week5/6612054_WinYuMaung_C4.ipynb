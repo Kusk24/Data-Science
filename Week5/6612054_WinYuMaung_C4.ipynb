{
 "cells": [
  {
   "cell_type": "code",
   "execution_count": 504,
   "metadata": {},
   "outputs": [
    {
     "data": {
      "image/png": "[encoded data removed]",
      "text/plain": [
       "<Figure size 800x600 with 1 Axes>"
      ]
     },
     "metadata": {},
     "output_type": "display_data"
    }
   ],
   "source": [
    "import pandas as pd\n",
    "import matplotlib.pyplot as plt\n",
    "import seaborn as sns\n",
    "import numpy as np\n",
    "\n",
    "books = pd.read_csv('clean_books.csv')\n",
    "sns.histplot(data=books, x='rating')\n",
    "plt.show()"
   ]
  },
  {
   "cell_type": "code",
   "execution_count": 505,
   "metadata": {},
   "outputs": [
    {
     "data": {
      "text/plain": [
       "genre\n",
       "Non Fiction    179\n",
       "Fiction        131\n",
       "Childrens       40\n",
       "Name: count, dtype: int64"
      ]
     },
     "execution_count": 505,
     "metadata": {},
     "output_type": "execute_result"
    }
   ],
   "source": [
    "books['genre'].value_counts()"
   ]
  },
  {
   "cell_type": "code",
   "execution_count": 506,
   "metadata": {},
   "outputs": [
    {
     "name": "stdout",
     "output_type": "stream",
     "text": [
      "------------------------------\n"
     ]
    },
    {
     "data": {
      "text/plain": [
       "genre\n",
       "Non Fiction    179\n",
       "Fiction        131\n",
       "Childrens       40\n",
       "Name: count, dtype: int64"
      ]
     },
     "execution_count": 506,
     "metadata": {},
     "output_type": "execute_result"
    }
   ],
   "source": [
    "print('-'*30)\n",
    "books.value_counts('genre')"
   ]
  },
  {
   "cell_type": "code",
   "execution_count": 507,
   "metadata": {},
   "outputs": [
    {
     "data": {
      "text/html": [
       "<div>\n",
       "<style scoped>\n",
       "    .dataframe tbody tr th:only-of-type {\n",
       "        vertical-align: middle;\n",
       "    }\n",
       "\n",
       "    .dataframe tbody tr th {\n",
       "        vertical-align: top;\n",
       "    }\n",
       "\n",
       "    .dataframe thead th {\n",
       "        text-align: right;\n",
       "    }\n",
       "</style>\n",
       "<table border=\"1\" class=\"dataframe\">\n",
       "  <thead>\n",
       "    <tr style=\"text-align: right;\">\n",
       "      <th></th>\n",
       "      <th>country_code</th>\n",
       "      <th>country_name</th>\n",
       "      <th>continent</th>\n",
       "      <th>2010</th>\n",
       "      <th>2011</th>\n",
       "      <th>2012</th>\n",
       "      <th>2013</th>\n",
       "      <th>2014</th>\n",
       "      <th>2015</th>\n",
       "      <th>2016</th>\n",
       "      <th>2017</th>\n",
       "      <th>2018</th>\n",
       "      <th>2019</th>\n",
       "      <th>2020</th>\n",
       "      <th>2021</th>\n",
       "    </tr>\n",
       "  </thead>\n",
       "  <tbody>\n",
       "    <tr>\n",
       "      <th>0</th>\n",
       "      <td>AFG</td>\n",
       "      <td>Afghanistan</td>\n",
       "      <td>Asia</td>\n",
       "      <td>11.35</td>\n",
       "      <td>11.05</td>\n",
       "      <td>11.34</td>\n",
       "      <td>11.19</td>\n",
       "      <td>11.14</td>\n",
       "      <td>11.13</td>\n",
       "      <td>11.16</td>\n",
       "      <td>11.18</td>\n",
       "      <td>11.15</td>\n",
       "      <td>11.22</td>\n",
       "      <td>11.71</td>\n",
       "      <td>13.28</td>\n",
       "    </tr>\n",
       "    <tr>\n",
       "      <th>1</th>\n",
       "      <td>AGO</td>\n",
       "      <td>Angola</td>\n",
       "      <td>Africa</td>\n",
       "      <td>9.43</td>\n",
       "      <td>7.36</td>\n",
       "      <td>7.35</td>\n",
       "      <td>7.37</td>\n",
       "      <td>7.37</td>\n",
       "      <td>7.39</td>\n",
       "      <td>7.41</td>\n",
       "      <td>7.41</td>\n",
       "      <td>7.42</td>\n",
       "      <td>7.42</td>\n",
       "      <td>8.33</td>\n",
       "      <td>8.53</td>\n",
       "    </tr>\n",
       "    <tr>\n",
       "      <th>2</th>\n",
       "      <td>ALB</td>\n",
       "      <td>Albania</td>\n",
       "      <td>Europe</td>\n",
       "      <td>14.09</td>\n",
       "      <td>13.48</td>\n",
       "      <td>13.38</td>\n",
       "      <td>15.87</td>\n",
       "      <td>18.05</td>\n",
       "      <td>17.19</td>\n",
       "      <td>15.42</td>\n",
       "      <td>13.62</td>\n",
       "      <td>12.30</td>\n",
       "      <td>11.47</td>\n",
       "      <td>13.33</td>\n",
       "      <td>11.82</td>\n",
       "    </tr>\n",
       "    <tr>\n",
       "      <th>3</th>\n",
       "      <td>ARE</td>\n",
       "      <td>United Arab Emirates</td>\n",
       "      <td>Asia</td>\n",
       "      <td>2.48</td>\n",
       "      <td>2.30</td>\n",
       "      <td>2.18</td>\n",
       "      <td>2.04</td>\n",
       "      <td>1.91</td>\n",
       "      <td>1.77</td>\n",
       "      <td>1.64</td>\n",
       "      <td>2.46</td>\n",
       "      <td>2.35</td>\n",
       "      <td>2.23</td>\n",
       "      <td>3.19</td>\n",
       "      <td>3.36</td>\n",
       "    </tr>\n",
       "    <tr>\n",
       "      <th>4</th>\n",
       "      <td>ARG</td>\n",
       "      <td>Argentina</td>\n",
       "      <td>South America</td>\n",
       "      <td>7.71</td>\n",
       "      <td>7.18</td>\n",
       "      <td>7.22</td>\n",
       "      <td>7.10</td>\n",
       "      <td>7.27</td>\n",
       "      <td>7.52</td>\n",
       "      <td>8.11</td>\n",
       "      <td>8.35</td>\n",
       "      <td>9.22</td>\n",
       "      <td>9.84</td>\n",
       "      <td>11.46</td>\n",
       "      <td>10.90</td>\n",
       "    </tr>\n",
       "  </tbody>\n",
       "</table>\n",
       "</div>"
      ],
      "text/plain": [
       "  country_code          country_name      continent   2010   2011   2012  \\\n",
       "0          AFG           Afghanistan           Asia  11.35  11.05  11.34   \n",
       "1          AGO                Angola         Africa   9.43   7.36   7.35   \n",
       "2          ALB               Albania         Europe  14.09  13.48  13.38   \n",
       "3          ARE  United Arab Emirates           Asia   2.48   2.30   2.18   \n",
       "4          ARG             Argentina  South America   7.71   7.18   7.22   \n",
       "\n",
       "    2013   2014   2015   2016   2017   2018   2019   2020   2021  \n",
       "0  11.19  11.14  11.13  11.16  11.18  11.15  11.22  11.71  13.28  \n",
       "1   7.37   7.37   7.39   7.41   7.41   7.42   7.42   8.33   8.53  \n",
       "2  15.87  18.05  17.19  15.42  13.62  12.30  11.47  13.33  11.82  \n",
       "3   2.04   1.91   1.77   1.64   2.46   2.35   2.23   3.19   3.36  \n",
       "4   7.10   7.27   7.52   8.11   8.35   9.22   9.84  11.46  10.90  "
      ]
     },
     "execution_count": 507,
     "metadata": {},
     "output_type": "execute_result"
    }
   ],
   "source": [
    "unenployment = pd.read_csv('clean_unemployment.csv')\n",
    "unenployment.head()"
   ]
  },
  {
   "cell_type": "code",
   "execution_count": 508,
   "metadata": {},
   "outputs": [
    {
     "data": {
      "text/plain": [
       "<Axes: xlabel='2019', ylabel='Count'>"
      ]
     },
     "execution_count": 508,
     "metadata": {},
     "output_type": "execute_result"
    },
    {
     "data": {
      "image/png": "[encoded data removed]",
      "text/plain": [
       "<Figure size 800x600 with 1 Axes>"
      ]
     },
     "metadata": {},
     "output_type": "display_data"
    }
   ],
   "source": [
    "sns.histplot(data = unenployment, x = '2019', binwidth= 0.1)"
   ]
  },
  {
   "cell_type": "code",
   "execution_count": 509,
   "metadata": {},
   "outputs": [
    {
     "data": {
      "text/plain": [
       "<Axes: xlabel='2021', ylabel='Count'>"
      ]
     },
     "execution_count": 509,
     "metadata": {},
     "output_type": "execute_result"
    },
    {
     "data": {
      "image/png": "[encoded data removed]",
      "text/plain": [
       "<Figure size 800x600 with 1 Axes>"
      ]
     },
     "metadata": {},
     "output_type": "display_data"
    }
   ],
   "source": [
    "#Exercise 1\n",
    "sns.histplot(data = unenployment, x = '2021', binwidth= 0.1)"
   ]
  },
  {
   "cell_type": "code",
   "execution_count": 510,
   "metadata": {},
   "outputs": [
    {
     "data": {
      "text/html": [
       "<div>\n",
       "<style scoped>\n",
       "    .dataframe tbody tr th:only-of-type {\n",
       "        vertical-align: middle;\n",
       "    }\n",
       "\n",
       "    .dataframe tbody tr th {\n",
       "        vertical-align: top;\n",
       "    }\n",
       "\n",
       "    .dataframe thead th {\n",
       "        text-align: right;\n",
       "    }\n",
       "</style>\n",
       "<table border=\"1\" class=\"dataframe\">\n",
       "  <thead>\n",
       "    <tr style=\"text-align: right;\">\n",
       "      <th></th>\n",
       "      <th>name</th>\n",
       "      <th>author</th>\n",
       "      <th>rating</th>\n",
       "      <th>year</th>\n",
       "      <th>genre</th>\n",
       "    </tr>\n",
       "  </thead>\n",
       "  <tbody>\n",
       "    <tr>\n",
       "      <th>0</th>\n",
       "      <td>10-Day Green Smoothie Cleanse</td>\n",
       "      <td>JJ Smith</td>\n",
       "      <td>4.7</td>\n",
       "      <td>2016</td>\n",
       "      <td>Non Fiction</td>\n",
       "    </tr>\n",
       "    <tr>\n",
       "      <th>1</th>\n",
       "      <td>11/22/63: A Novel</td>\n",
       "      <td>Stephen King</td>\n",
       "      <td>4.6</td>\n",
       "      <td>2011</td>\n",
       "      <td>Fiction</td>\n",
       "    </tr>\n",
       "    <tr>\n",
       "      <th>2</th>\n",
       "      <td>12 Rules for Life: An Antidote to Chaos</td>\n",
       "      <td>Jordan B. Peterson</td>\n",
       "      <td>4.7</td>\n",
       "      <td>2018</td>\n",
       "      <td>Non Fiction</td>\n",
       "    </tr>\n",
       "    <tr>\n",
       "      <th>3</th>\n",
       "      <td>1984 (Signet Classics)</td>\n",
       "      <td>George Orwell</td>\n",
       "      <td>4.7</td>\n",
       "      <td>2017</td>\n",
       "      <td>Fiction</td>\n",
       "    </tr>\n",
       "    <tr>\n",
       "      <th>4</th>\n",
       "      <td>5,000 Awesome Facts (About Everything!) (Natio...</td>\n",
       "      <td>National Geographic Kids</td>\n",
       "      <td>4.8</td>\n",
       "      <td>2019</td>\n",
       "      <td>Childrens</td>\n",
       "    </tr>\n",
       "    <tr>\n",
       "      <th>...</th>\n",
       "      <td>...</td>\n",
       "      <td>...</td>\n",
       "      <td>...</td>\n",
       "      <td>...</td>\n",
       "      <td>...</td>\n",
       "    </tr>\n",
       "    <tr>\n",
       "      <th>345</th>\n",
       "      <td>Wild: From Lost to Found on the Pacific Crest ...</td>\n",
       "      <td>Cheryl Strayed</td>\n",
       "      <td>4.4</td>\n",
       "      <td>2012</td>\n",
       "      <td>Non Fiction</td>\n",
       "    </tr>\n",
       "    <tr>\n",
       "      <th>346</th>\n",
       "      <td>Winter of the World: Book Two of the Century T...</td>\n",
       "      <td>Ken Follett</td>\n",
       "      <td>4.5</td>\n",
       "      <td>2012</td>\n",
       "      <td>Fiction</td>\n",
       "    </tr>\n",
       "    <tr>\n",
       "      <th>347</th>\n",
       "      <td>Women Food and God: An Unexpected Path to Almo...</td>\n",
       "      <td>Geneen Roth</td>\n",
       "      <td>4.2</td>\n",
       "      <td>2010</td>\n",
       "      <td>Non Fiction</td>\n",
       "    </tr>\n",
       "    <tr>\n",
       "      <th>348</th>\n",
       "      <td>Wonder</td>\n",
       "      <td>R. J. Palacio</td>\n",
       "      <td>4.8</td>\n",
       "      <td>2013</td>\n",
       "      <td>Fiction</td>\n",
       "    </tr>\n",
       "    <tr>\n",
       "      <th>349</th>\n",
       "      <td>Wrecking Ball (Diary of a Wimpy Kid Book 14)</td>\n",
       "      <td>Jeff Kinney</td>\n",
       "      <td>4.9</td>\n",
       "      <td>2019</td>\n",
       "      <td>Childrens</td>\n",
       "    </tr>\n",
       "  </tbody>\n",
       "</table>\n",
       "<p>350 rows × 5 columns</p>\n",
       "</div>"
      ],
      "text/plain": [
       "                                                  name  \\\n",
       "0                        10-Day Green Smoothie Cleanse   \n",
       "1                                    11/22/63: A Novel   \n",
       "2              12 Rules for Life: An Antidote to Chaos   \n",
       "3                               1984 (Signet Classics)   \n",
       "4    5,000 Awesome Facts (About Everything!) (Natio...   \n",
       "..                                                 ...   \n",
       "345  Wild: From Lost to Found on the Pacific Crest ...   \n",
       "346  Winter of the World: Book Two of the Century T...   \n",
       "347  Women Food and God: An Unexpected Path to Almo...   \n",
       "348                                             Wonder   \n",
       "349       Wrecking Ball (Diary of a Wimpy Kid Book 14)   \n",
       "\n",
       "                       author  rating  year        genre  \n",
       "0                    JJ Smith     4.7  2016  Non Fiction  \n",
       "1                Stephen King     4.6  2011      Fiction  \n",
       "2          Jordan B. Peterson     4.7  2018  Non Fiction  \n",
       "3               George Orwell     4.7  2017      Fiction  \n",
       "4    National Geographic Kids     4.8  2019    Childrens  \n",
       "..                        ...     ...   ...          ...  \n",
       "345            Cheryl Strayed     4.4  2012  Non Fiction  \n",
       "346               Ken Follett     4.5  2012      Fiction  \n",
       "347               Geneen Roth     4.2  2010  Non Fiction  \n",
       "348             R. J. Palacio     4.8  2013      Fiction  \n",
       "349               Jeff Kinney     4.9  2019    Childrens  \n",
       "\n",
       "[350 rows x 5 columns]"
      ]
     },
     "execution_count": 510,
     "metadata": {},
     "output_type": "execute_result"
    }
   ],
   "source": [
    "books"
   ]
  },
  {
   "cell_type": "code",
   "execution_count": 511,
   "metadata": {},
   "outputs": [
    {
     "data": {
      "text/plain": [
       "0       True\n",
       "1       True\n",
       "2       True\n",
       "3       True\n",
       "4      False\n",
       "       ...  \n",
       "345     True\n",
       "346     True\n",
       "347     True\n",
       "348     True\n",
       "349    False\n",
       "Name: genre, Length: 350, dtype: bool"
      ]
     },
     "execution_count": 511,
     "metadata": {},
     "output_type": "execute_result"
    }
   ],
   "source": [
    "books[\"genre\"].isin([\"Fiction\", \"Non Fiction\"])"
   ]
  },
  {
   "cell_type": "code",
   "execution_count": 512,
   "metadata": {},
   "outputs": [
    {
     "data": {
      "text/html": [
       "<div>\n",
       "<style scoped>\n",
       "    .dataframe tbody tr th:only-of-type {\n",
       "        vertical-align: middle;\n",
       "    }\n",
       "\n",
       "    .dataframe tbody tr th {\n",
       "        vertical-align: top;\n",
       "    }\n",
       "\n",
       "    .dataframe thead th {\n",
       "        text-align: right;\n",
       "    }\n",
       "</style>\n",
       "<table border=\"1\" class=\"dataframe\">\n",
       "  <thead>\n",
       "    <tr style=\"text-align: right;\">\n",
       "      <th></th>\n",
       "      <th>name</th>\n",
       "      <th>author</th>\n",
       "      <th>rating</th>\n",
       "      <th>year</th>\n",
       "      <th>genre</th>\n",
       "    </tr>\n",
       "  </thead>\n",
       "  <tbody>\n",
       "    <tr>\n",
       "      <th>0</th>\n",
       "      <td>10-Day Green Smoothie Cleanse</td>\n",
       "      <td>JJ Smith</td>\n",
       "      <td>4.7</td>\n",
       "      <td>2016</td>\n",
       "      <td>Non Fiction</td>\n",
       "    </tr>\n",
       "    <tr>\n",
       "      <th>1</th>\n",
       "      <td>11/22/63: A Novel</td>\n",
       "      <td>Stephen King</td>\n",
       "      <td>4.6</td>\n",
       "      <td>2011</td>\n",
       "      <td>Fiction</td>\n",
       "    </tr>\n",
       "    <tr>\n",
       "      <th>2</th>\n",
       "      <td>12 Rules for Life: An Antidote to Chaos</td>\n",
       "      <td>Jordan B. Peterson</td>\n",
       "      <td>4.7</td>\n",
       "      <td>2018</td>\n",
       "      <td>Non Fiction</td>\n",
       "    </tr>\n",
       "    <tr>\n",
       "      <th>3</th>\n",
       "      <td>1984 (Signet Classics)</td>\n",
       "      <td>George Orwell</td>\n",
       "      <td>4.7</td>\n",
       "      <td>2017</td>\n",
       "      <td>Fiction</td>\n",
       "    </tr>\n",
       "    <tr>\n",
       "      <th>5</th>\n",
       "      <td>A Dance with Dragons (A Song of Ice and Fire)</td>\n",
       "      <td>George R. R. Martin</td>\n",
       "      <td>4.4</td>\n",
       "      <td>2011</td>\n",
       "      <td>Fiction</td>\n",
       "    </tr>\n",
       "  </tbody>\n",
       "</table>\n",
       "</div>"
      ],
      "text/plain": [
       "                                            name               author  rating  \\\n",
       "0                  10-Day Green Smoothie Cleanse             JJ Smith     4.7   \n",
       "1                              11/22/63: A Novel         Stephen King     4.6   \n",
       "2        12 Rules for Life: An Antidote to Chaos   Jordan B. Peterson     4.7   \n",
       "3                         1984 (Signet Classics)        George Orwell     4.7   \n",
       "5  A Dance with Dragons (A Song of Ice and Fire)  George R. R. Martin     4.4   \n",
       "\n",
       "   year        genre  \n",
       "0  2016  Non Fiction  \n",
       "1  2011      Fiction  \n",
       "2  2018  Non Fiction  \n",
       "3  2017      Fiction  \n",
       "5  2011      Fiction  "
      ]
     },
     "execution_count": 512,
     "metadata": {},
     "output_type": "execute_result"
    }
   ],
   "source": [
    "books[books[\"genre\"].isin([\"Fiction\", \"Non Fiction\"])].head()"
   ]
  },
  {
   "cell_type": "code",
   "execution_count": 513,
   "metadata": {},
   "outputs": [
    {
     "data": {
      "text/html": [
       "<div>\n",
       "<style scoped>\n",
       "    .dataframe tbody tr th:only-of-type {\n",
       "        vertical-align: middle;\n",
       "    }\n",
       "\n",
       "    .dataframe tbody tr th {\n",
       "        vertical-align: top;\n",
       "    }\n",
       "\n",
       "    .dataframe thead th {\n",
       "        text-align: right;\n",
       "    }\n",
       "</style>\n",
       "<table border=\"1\" class=\"dataframe\">\n",
       "  <thead>\n",
       "    <tr style=\"text-align: right;\">\n",
       "      <th></th>\n",
       "      <th>rating</th>\n",
       "      <th>year</th>\n",
       "    </tr>\n",
       "  </thead>\n",
       "  <tbody>\n",
       "    <tr>\n",
       "      <th>0</th>\n",
       "      <td>4.7</td>\n",
       "      <td>2016</td>\n",
       "    </tr>\n",
       "    <tr>\n",
       "      <th>1</th>\n",
       "      <td>4.6</td>\n",
       "      <td>2011</td>\n",
       "    </tr>\n",
       "    <tr>\n",
       "      <th>2</th>\n",
       "      <td>4.7</td>\n",
       "      <td>2018</td>\n",
       "    </tr>\n",
       "    <tr>\n",
       "      <th>3</th>\n",
       "      <td>4.7</td>\n",
       "      <td>2017</td>\n",
       "    </tr>\n",
       "    <tr>\n",
       "      <th>4</th>\n",
       "      <td>4.8</td>\n",
       "      <td>2019</td>\n",
       "    </tr>\n",
       "  </tbody>\n",
       "</table>\n",
       "</div>"
      ],
      "text/plain": [
       "   rating  year\n",
       "0     4.7  2016\n",
       "1     4.6  2011\n",
       "2     4.7  2018\n",
       "3     4.7  2017\n",
       "4     4.8  2019"
      ]
     },
     "execution_count": 513,
     "metadata": {},
     "output_type": "execute_result"
    }
   ],
   "source": [
    "books.select_dtypes(\"number\").head()"
   ]
  },
  {
   "cell_type": "code",
   "execution_count": 514,
   "metadata": {},
   "outputs": [
    {
     "data": {
      "text/plain": [
       "2009"
      ]
     },
     "execution_count": 514,
     "metadata": {},
     "output_type": "execute_result"
    }
   ],
   "source": [
    "books[\"year\"].min()"
   ]
  },
  {
   "cell_type": "code",
   "execution_count": 515,
   "metadata": {},
   "outputs": [
    {
     "data": {
      "text/plain": [
       "2019"
      ]
     },
     "execution_count": 515,
     "metadata": {},
     "output_type": "execute_result"
    }
   ],
   "source": [
    "books[\"year\"].max()"
   ]
  },
  {
   "cell_type": "code",
   "execution_count": 516,
   "metadata": {},
   "outputs": [
    {
     "data": {
      "text/plain": [
       "<Axes: xlabel='year'>"
      ]
     },
     "execution_count": 516,
     "metadata": {},
     "output_type": "execute_result"
    },
    {
     "data": {
      "image/png": "[encoded data removed]",
      "text/plain": [
       "<Figure size 800x600 with 1 Axes>"
      ]
     },
     "metadata": {},
     "output_type": "display_data"
    }
   ],
   "source": [
    "sns.boxplot(data = books, x = \"year\")"
   ]
  },
  {
   "cell_type": "code",
   "execution_count": 517,
   "metadata": {},
   "outputs": [
    {
     "data": {
      "text/plain": [
       "<Axes: xlabel='year', ylabel='genre'>"
      ]
     },
     "execution_count": 517,
     "metadata": {},
     "output_type": "execute_result"
    },
    {
     "data": {
      "image/png": "[encoded data removed]",
      "text/plain": [
       "<Figure size 800x600 with 1 Axes>"
      ]
     },
     "metadata": {},
     "output_type": "display_data"
    }
   ],
   "source": [
    "sns.boxplot(data = books, x = \"year\", y= \"genre\")"
   ]
  },
  {
   "cell_type": "code",
   "execution_count": 518,
   "metadata": {},
   "outputs": [
    {
     "data": {
      "text/html": [
       "<div>\n",
       "<style scoped>\n",
       "    .dataframe tbody tr th:only-of-type {\n",
       "        vertical-align: middle;\n",
       "    }\n",
       "\n",
       "    .dataframe tbody tr th {\n",
       "        vertical-align: top;\n",
       "    }\n",
       "\n",
       "    .dataframe thead th {\n",
       "        text-align: right;\n",
       "    }\n",
       "</style>\n",
       "<table border=\"1\" class=\"dataframe\">\n",
       "  <thead>\n",
       "    <tr style=\"text-align: right;\">\n",
       "      <th></th>\n",
       "      <th>country_code</th>\n",
       "      <th>country_name</th>\n",
       "      <th>continent</th>\n",
       "      <th>2010</th>\n",
       "      <th>2011</th>\n",
       "      <th>2012</th>\n",
       "      <th>2013</th>\n",
       "      <th>2014</th>\n",
       "      <th>2015</th>\n",
       "      <th>2016</th>\n",
       "      <th>2017</th>\n",
       "      <th>2018</th>\n",
       "      <th>2019</th>\n",
       "      <th>2020</th>\n",
       "      <th>2021</th>\n",
       "    </tr>\n",
       "  </thead>\n",
       "  <tbody>\n",
       "    <tr>\n",
       "      <th>0</th>\n",
       "      <td>AFG</td>\n",
       "      <td>Afghanistan</td>\n",
       "      <td>Asia</td>\n",
       "      <td>11.35</td>\n",
       "      <td>11.05</td>\n",
       "      <td>11.34</td>\n",
       "      <td>11.19</td>\n",
       "      <td>11.14</td>\n",
       "      <td>11.13</td>\n",
       "      <td>11.16</td>\n",
       "      <td>11.18</td>\n",
       "      <td>11.15</td>\n",
       "      <td>11.22</td>\n",
       "      <td>11.71</td>\n",
       "      <td>13.28</td>\n",
       "    </tr>\n",
       "    <tr>\n",
       "      <th>1</th>\n",
       "      <td>AGO</td>\n",
       "      <td>Angola</td>\n",
       "      <td>Africa</td>\n",
       "      <td>9.43</td>\n",
       "      <td>7.36</td>\n",
       "      <td>7.35</td>\n",
       "      <td>7.37</td>\n",
       "      <td>7.37</td>\n",
       "      <td>7.39</td>\n",
       "      <td>7.41</td>\n",
       "      <td>7.41</td>\n",
       "      <td>7.42</td>\n",
       "      <td>7.42</td>\n",
       "      <td>8.33</td>\n",
       "      <td>8.53</td>\n",
       "    </tr>\n",
       "    <tr>\n",
       "      <th>2</th>\n",
       "      <td>ALB</td>\n",
       "      <td>Albania</td>\n",
       "      <td>Europe</td>\n",
       "      <td>14.09</td>\n",
       "      <td>13.48</td>\n",
       "      <td>13.38</td>\n",
       "      <td>15.87</td>\n",
       "      <td>18.05</td>\n",
       "      <td>17.19</td>\n",
       "      <td>15.42</td>\n",
       "      <td>13.62</td>\n",
       "      <td>12.30</td>\n",
       "      <td>11.47</td>\n",
       "      <td>13.33</td>\n",
       "      <td>11.82</td>\n",
       "    </tr>\n",
       "    <tr>\n",
       "      <th>3</th>\n",
       "      <td>ARE</td>\n",
       "      <td>United Arab Emirates</td>\n",
       "      <td>Asia</td>\n",
       "      <td>2.48</td>\n",
       "      <td>2.30</td>\n",
       "      <td>2.18</td>\n",
       "      <td>2.04</td>\n",
       "      <td>1.91</td>\n",
       "      <td>1.77</td>\n",
       "      <td>1.64</td>\n",
       "      <td>2.46</td>\n",
       "      <td>2.35</td>\n",
       "      <td>2.23</td>\n",
       "      <td>3.19</td>\n",
       "      <td>3.36</td>\n",
       "    </tr>\n",
       "    <tr>\n",
       "      <th>4</th>\n",
       "      <td>ARG</td>\n",
       "      <td>Argentina</td>\n",
       "      <td>South America</td>\n",
       "      <td>7.71</td>\n",
       "      <td>7.18</td>\n",
       "      <td>7.22</td>\n",
       "      <td>7.10</td>\n",
       "      <td>7.27</td>\n",
       "      <td>7.52</td>\n",
       "      <td>8.11</td>\n",
       "      <td>8.35</td>\n",
       "      <td>9.22</td>\n",
       "      <td>9.84</td>\n",
       "      <td>11.46</td>\n",
       "      <td>10.90</td>\n",
       "    </tr>\n",
       "  </tbody>\n",
       "</table>\n",
       "</div>"
      ],
      "text/plain": [
       "  country_code          country_name      continent   2010   2011   2012  \\\n",
       "0          AFG           Afghanistan           Asia  11.35  11.05  11.34   \n",
       "1          AGO                Angola         Africa   9.43   7.36   7.35   \n",
       "2          ALB               Albania         Europe  14.09  13.48  13.38   \n",
       "3          ARE  United Arab Emirates           Asia   2.48   2.30   2.18   \n",
       "4          ARG             Argentina  South America   7.71   7.18   7.22   \n",
       "\n",
       "    2013   2014   2015   2016   2017   2018   2019   2020   2021  \n",
       "0  11.19  11.14  11.13  11.16  11.18  11.15  11.22  11.71  13.28  \n",
       "1   7.37   7.37   7.39   7.41   7.41   7.42   7.42   8.33   8.53  \n",
       "2  15.87  18.05  17.19  15.42  13.62  12.30  11.47  13.33  11.82  \n",
       "3   2.04   1.91   1.77   1.64   2.46   2.35   2.23   3.19   3.36  \n",
       "4   7.10   7.27   7.52   8.11   8.35   9.22   9.84  11.46  10.90  "
      ]
     },
     "execution_count": 518,
     "metadata": {},
     "output_type": "execute_result"
    }
   ],
   "source": [
    "unenployment.head()"
   ]
  },
  {
   "cell_type": "code",
   "execution_count": 519,
   "metadata": {},
   "outputs": [],
   "source": [
    "#Exercise 2\n",
    "# not_oceania = unenployment[~unenployment[\"continent\"].isin([\"Oceania\"])]\n",
    "not_oceania = unenployment[unenployment[\"continent\"] != \"Oceania\"]"
   ]
  },
  {
   "cell_type": "code",
   "execution_count": 520,
   "metadata": {},
   "outputs": [
    {
     "data": {
      "text/html": [
       "<div>\n",
       "<style scoped>\n",
       "    .dataframe tbody tr th:only-of-type {\n",
       "        vertical-align: middle;\n",
       "    }\n",
       "\n",
       "    .dataframe tbody tr th {\n",
       "        vertical-align: top;\n",
       "    }\n",
       "\n",
       "    .dataframe thead th {\n",
       "        text-align: right;\n",
       "    }\n",
       "</style>\n",
       "<table border=\"1\" class=\"dataframe\">\n",
       "  <thead>\n",
       "    <tr style=\"text-align: right;\">\n",
       "      <th></th>\n",
       "      <th>country_code</th>\n",
       "      <th>country_name</th>\n",
       "      <th>continent</th>\n",
       "      <th>2010</th>\n",
       "      <th>2011</th>\n",
       "      <th>2012</th>\n",
       "      <th>2013</th>\n",
       "      <th>2014</th>\n",
       "      <th>2015</th>\n",
       "      <th>2016</th>\n",
       "      <th>2017</th>\n",
       "      <th>2018</th>\n",
       "      <th>2019</th>\n",
       "      <th>2020</th>\n",
       "      <th>2021</th>\n",
       "    </tr>\n",
       "  </thead>\n",
       "  <tbody>\n",
       "    <tr>\n",
       "      <th>0</th>\n",
       "      <td>AFG</td>\n",
       "      <td>Afghanistan</td>\n",
       "      <td>Asia</td>\n",
       "      <td>11.35</td>\n",
       "      <td>11.05</td>\n",
       "      <td>11.34</td>\n",
       "      <td>11.19</td>\n",
       "      <td>11.14</td>\n",
       "      <td>11.13</td>\n",
       "      <td>11.16</td>\n",
       "      <td>11.18</td>\n",
       "      <td>11.15</td>\n",
       "      <td>11.22</td>\n",
       "      <td>11.71</td>\n",
       "      <td>13.28</td>\n",
       "    </tr>\n",
       "    <tr>\n",
       "      <th>1</th>\n",
       "      <td>AGO</td>\n",
       "      <td>Angola</td>\n",
       "      <td>Africa</td>\n",
       "      <td>9.43</td>\n",
       "      <td>7.36</td>\n",
       "      <td>7.35</td>\n",
       "      <td>7.37</td>\n",
       "      <td>7.37</td>\n",
       "      <td>7.39</td>\n",
       "      <td>7.41</td>\n",
       "      <td>7.41</td>\n",
       "      <td>7.42</td>\n",
       "      <td>7.42</td>\n",
       "      <td>8.33</td>\n",
       "      <td>8.53</td>\n",
       "    </tr>\n",
       "    <tr>\n",
       "      <th>2</th>\n",
       "      <td>ALB</td>\n",
       "      <td>Albania</td>\n",
       "      <td>Europe</td>\n",
       "      <td>14.09</td>\n",
       "      <td>13.48</td>\n",
       "      <td>13.38</td>\n",
       "      <td>15.87</td>\n",
       "      <td>18.05</td>\n",
       "      <td>17.19</td>\n",
       "      <td>15.42</td>\n",
       "      <td>13.62</td>\n",
       "      <td>12.30</td>\n",
       "      <td>11.47</td>\n",
       "      <td>13.33</td>\n",
       "      <td>11.82</td>\n",
       "    </tr>\n",
       "    <tr>\n",
       "      <th>3</th>\n",
       "      <td>ARE</td>\n",
       "      <td>United Arab Emirates</td>\n",
       "      <td>Asia</td>\n",
       "      <td>2.48</td>\n",
       "      <td>2.30</td>\n",
       "      <td>2.18</td>\n",
       "      <td>2.04</td>\n",
       "      <td>1.91</td>\n",
       "      <td>1.77</td>\n",
       "      <td>1.64</td>\n",
       "      <td>2.46</td>\n",
       "      <td>2.35</td>\n",
       "      <td>2.23</td>\n",
       "      <td>3.19</td>\n",
       "      <td>3.36</td>\n",
       "    </tr>\n",
       "    <tr>\n",
       "      <th>4</th>\n",
       "      <td>ARG</td>\n",
       "      <td>Argentina</td>\n",
       "      <td>South America</td>\n",
       "      <td>7.71</td>\n",
       "      <td>7.18</td>\n",
       "      <td>7.22</td>\n",
       "      <td>7.10</td>\n",
       "      <td>7.27</td>\n",
       "      <td>7.52</td>\n",
       "      <td>8.11</td>\n",
       "      <td>8.35</td>\n",
       "      <td>9.22</td>\n",
       "      <td>9.84</td>\n",
       "      <td>11.46</td>\n",
       "      <td>10.90</td>\n",
       "    </tr>\n",
       "    <tr>\n",
       "      <th>...</th>\n",
       "      <td>...</td>\n",
       "      <td>...</td>\n",
       "      <td>...</td>\n",
       "      <td>...</td>\n",
       "      <td>...</td>\n",
       "      <td>...</td>\n",
       "      <td>...</td>\n",
       "      <td>...</td>\n",
       "      <td>...</td>\n",
       "      <td>...</td>\n",
       "      <td>...</td>\n",
       "      <td>...</td>\n",
       "      <td>...</td>\n",
       "      <td>...</td>\n",
       "      <td>...</td>\n",
       "    </tr>\n",
       "    <tr>\n",
       "      <th>175</th>\n",
       "      <td>VNM</td>\n",
       "      <td>Vietnam</td>\n",
       "      <td>Asia</td>\n",
       "      <td>1.11</td>\n",
       "      <td>1.00</td>\n",
       "      <td>1.03</td>\n",
       "      <td>1.32</td>\n",
       "      <td>1.26</td>\n",
       "      <td>1.85</td>\n",
       "      <td>1.85</td>\n",
       "      <td>1.87</td>\n",
       "      <td>1.16</td>\n",
       "      <td>2.04</td>\n",
       "      <td>2.39</td>\n",
       "      <td>2.17</td>\n",
       "    </tr>\n",
       "    <tr>\n",
       "      <th>178</th>\n",
       "      <td>YEM</td>\n",
       "      <td>Yemen, Rep.</td>\n",
       "      <td>Asia</td>\n",
       "      <td>12.83</td>\n",
       "      <td>13.23</td>\n",
       "      <td>13.17</td>\n",
       "      <td>13.27</td>\n",
       "      <td>13.47</td>\n",
       "      <td>13.77</td>\n",
       "      <td>13.43</td>\n",
       "      <td>13.30</td>\n",
       "      <td>13.15</td>\n",
       "      <td>13.06</td>\n",
       "      <td>13.39</td>\n",
       "      <td>13.57</td>\n",
       "    </tr>\n",
       "    <tr>\n",
       "      <th>179</th>\n",
       "      <td>ZAF</td>\n",
       "      <td>South Africa</td>\n",
       "      <td>Africa</td>\n",
       "      <td>24.68</td>\n",
       "      <td>24.64</td>\n",
       "      <td>24.73</td>\n",
       "      <td>24.56</td>\n",
       "      <td>24.89</td>\n",
       "      <td>25.15</td>\n",
       "      <td>26.54</td>\n",
       "      <td>27.04</td>\n",
       "      <td>26.91</td>\n",
       "      <td>28.47</td>\n",
       "      <td>29.22</td>\n",
       "      <td>33.56</td>\n",
       "    </tr>\n",
       "    <tr>\n",
       "      <th>180</th>\n",
       "      <td>ZMB</td>\n",
       "      <td>Zambia</td>\n",
       "      <td>Africa</td>\n",
       "      <td>13.19</td>\n",
       "      <td>10.55</td>\n",
       "      <td>7.85</td>\n",
       "      <td>8.61</td>\n",
       "      <td>9.36</td>\n",
       "      <td>10.13</td>\n",
       "      <td>10.87</td>\n",
       "      <td>11.63</td>\n",
       "      <td>12.01</td>\n",
       "      <td>12.52</td>\n",
       "      <td>12.85</td>\n",
       "      <td>13.03</td>\n",
       "    </tr>\n",
       "    <tr>\n",
       "      <th>181</th>\n",
       "      <td>ZWE</td>\n",
       "      <td>Zimbabwe</td>\n",
       "      <td>Africa</td>\n",
       "      <td>5.21</td>\n",
       "      <td>5.37</td>\n",
       "      <td>5.15</td>\n",
       "      <td>4.98</td>\n",
       "      <td>4.77</td>\n",
       "      <td>4.78</td>\n",
       "      <td>4.79</td>\n",
       "      <td>4.78</td>\n",
       "      <td>4.80</td>\n",
       "      <td>4.83</td>\n",
       "      <td>5.35</td>\n",
       "      <td>5.17</td>\n",
       "    </tr>\n",
       "  </tbody>\n",
       "</table>\n",
       "<p>174 rows × 15 columns</p>\n",
       "</div>"
      ],
      "text/plain": [
       "    country_code          country_name      continent   2010   2011   2012  \\\n",
       "0            AFG           Afghanistan           Asia  11.35  11.05  11.34   \n",
       "1            AGO                Angola         Africa   9.43   7.36   7.35   \n",
       "2            ALB               Albania         Europe  14.09  13.48  13.38   \n",
       "3            ARE  United Arab Emirates           Asia   2.48   2.30   2.18   \n",
       "4            ARG             Argentina  South America   7.71   7.18   7.22   \n",
       "..           ...                   ...            ...    ...    ...    ...   \n",
       "175          VNM               Vietnam           Asia   1.11   1.00   1.03   \n",
       "178          YEM           Yemen, Rep.           Asia  12.83  13.23  13.17   \n",
       "179          ZAF          South Africa         Africa  24.68  24.64  24.73   \n",
       "180          ZMB                Zambia         Africa  13.19  10.55   7.85   \n",
       "181          ZWE              Zimbabwe         Africa   5.21   5.37   5.15   \n",
       "\n",
       "      2013   2014   2015   2016   2017   2018   2019   2020   2021  \n",
       "0    11.19  11.14  11.13  11.16  11.18  11.15  11.22  11.71  13.28  \n",
       "1     7.37   7.37   7.39   7.41   7.41   7.42   7.42   8.33   8.53  \n",
       "2    15.87  18.05  17.19  15.42  13.62  12.30  11.47  13.33  11.82  \n",
       "3     2.04   1.91   1.77   1.64   2.46   2.35   2.23   3.19   3.36  \n",
       "4     7.10   7.27   7.52   8.11   8.35   9.22   9.84  11.46  10.90  \n",
       "..     ...    ...    ...    ...    ...    ...    ...    ...    ...  \n",
       "175   1.32   1.26   1.85   1.85   1.87   1.16   2.04   2.39   2.17  \n",
       "178  13.27  13.47  13.77  13.43  13.30  13.15  13.06  13.39  13.57  \n",
       "179  24.56  24.89  25.15  26.54  27.04  26.91  28.47  29.22  33.56  \n",
       "180   8.61   9.36  10.13  10.87  11.63  12.01  12.52  12.85  13.03  \n",
       "181   4.98   4.77   4.78   4.79   4.78   4.80   4.83   5.35   5.17  \n",
       "\n",
       "[174 rows x 15 columns]"
      ]
     },
     "execution_count": 520,
     "metadata": {},
     "output_type": "execute_result"
    }
   ],
   "source": [
    "not_oceania"
   ]
  },
  {
   "cell_type": "code",
   "execution_count": 521,
   "metadata": {},
   "outputs": [
    {
     "name": "stdout",
     "output_type": "stream",
     "text": [
      "minimum = 0.26 , maximum = 33.56\n"
     ]
    },
    {
     "data": {
      "image/png": "[encoded data removed]",
      "text/plain": [
       "<Figure size 800x600 with 1 Axes>"
      ]
     },
     "metadata": {},
     "output_type": "display_data"
    }
   ],
   "source": [
    "#Exercise 3\n",
    "print(\"minimum =\", unenployment[\"2021\"].min(),\n",
    "\", maximum =\", unenployment[\"2021\"].max())\n",
    "\n",
    "sns.boxplot(data = unenployment, x = \"2021\", y = \"continent\")\n",
    "plt.show()"
   ]
  },
  {
   "cell_type": "code",
   "execution_count": 522,
   "metadata": {},
   "outputs": [
    {
     "data": {
      "text/html": [
       "<div>\n",
       "<style scoped>\n",
       "    .dataframe tbody tr th:only-of-type {\n",
       "        vertical-align: middle;\n",
       "    }\n",
       "\n",
       "    .dataframe tbody tr th {\n",
       "        vertical-align: top;\n",
       "    }\n",
       "\n",
       "    .dataframe thead th {\n",
       "        text-align: right;\n",
       "    }\n",
       "</style>\n",
       "<table border=\"1\" class=\"dataframe\">\n",
       "  <thead>\n",
       "    <tr style=\"text-align: right;\">\n",
       "      <th></th>\n",
       "      <th>rating</th>\n",
       "      <th>year</th>\n",
       "    </tr>\n",
       "  </thead>\n",
       "  <tbody>\n",
       "    <tr>\n",
       "      <th>mean</th>\n",
       "      <td>4.608571</td>\n",
       "      <td>NaN</td>\n",
       "    </tr>\n",
       "    <tr>\n",
       "      <th>std</th>\n",
       "      <td>0.226941</td>\n",
       "      <td>NaN</td>\n",
       "    </tr>\n",
       "    <tr>\n",
       "      <th>median</th>\n",
       "      <td>NaN</td>\n",
       "      <td>2013.0</td>\n",
       "    </tr>\n",
       "  </tbody>\n",
       "</table>\n",
       "</div>"
      ],
      "text/plain": [
       "          rating    year\n",
       "mean    4.608571     NaN\n",
       "std     0.226941     NaN\n",
       "median       NaN  2013.0"
      ]
     },
     "execution_count": 522,
     "metadata": {},
     "output_type": "execute_result"
    }
   ],
   "source": [
    "books.agg({\"rating\": [\"mean\", \"std\"], \"year\": [\"median\"]})"
   ]
  },
  {
   "cell_type": "code",
   "execution_count": 523,
   "metadata": {},
   "outputs": [
    {
     "data": {
      "image/png": "[encoded data removed]",
      "text/plain": [
       "<Figure size 800x600 with 1 Axes>"
      ]
     },
     "metadata": {},
     "output_type": "display_data"
    }
   ],
   "source": [
    "sns.barplot(data = books, x = \"genre\", y = \"rating\")\n",
    "plt.show()"
   ]
  },
  {
   "cell_type": "code",
   "execution_count": 524,
   "metadata": {},
   "outputs": [
    {
     "data": {
      "text/html": [
       "<div>\n",
       "<style scoped>\n",
       "    .dataframe tbody tr th:only-of-type {\n",
       "        vertical-align: middle;\n",
       "    }\n",
       "\n",
       "    .dataframe tbody tr th {\n",
       "        vertical-align: top;\n",
       "    }\n",
       "\n",
       "    .dataframe thead th {\n",
       "        text-align: right;\n",
       "    }\n",
       "</style>\n",
       "<table border=\"1\" class=\"dataframe\">\n",
       "  <thead>\n",
       "    <tr style=\"text-align: right;\">\n",
       "      <th></th>\n",
       "      <th>2010</th>\n",
       "      <th>2011</th>\n",
       "      <th>2012</th>\n",
       "      <th>2013</th>\n",
       "      <th>2014</th>\n",
       "      <th>2015</th>\n",
       "      <th>2016</th>\n",
       "      <th>2017</th>\n",
       "      <th>2018</th>\n",
       "      <th>2019</th>\n",
       "      <th>2020</th>\n",
       "      <th>2021</th>\n",
       "    </tr>\n",
       "  </thead>\n",
       "  <tbody>\n",
       "    <tr>\n",
       "      <th>mean</th>\n",
       "      <td>8.409286</td>\n",
       "      <td>8.315440</td>\n",
       "      <td>8.317967</td>\n",
       "      <td>8.344780</td>\n",
       "      <td>8.179670</td>\n",
       "      <td>8.058901</td>\n",
       "      <td>7.925879</td>\n",
       "      <td>7.668626</td>\n",
       "      <td>7.426429</td>\n",
       "      <td>7.243736</td>\n",
       "      <td>8.420934</td>\n",
       "      <td>8.390879</td>\n",
       "    </tr>\n",
       "    <tr>\n",
       "      <th>std</th>\n",
       "      <td>6.248887</td>\n",
       "      <td>6.266795</td>\n",
       "      <td>6.367270</td>\n",
       "      <td>6.416041</td>\n",
       "      <td>6.284241</td>\n",
       "      <td>6.161170</td>\n",
       "      <td>6.045439</td>\n",
       "      <td>5.902152</td>\n",
       "      <td>5.818915</td>\n",
       "      <td>5.696573</td>\n",
       "      <td>6.040915</td>\n",
       "      <td>6.067192</td>\n",
       "    </tr>\n",
       "  </tbody>\n",
       "</table>\n",
       "</div>"
      ],
      "text/plain": [
       "          2010      2011      2012      2013      2014      2015      2016  \\\n",
       "mean  8.409286  8.315440  8.317967  8.344780  8.179670  8.058901  7.925879   \n",
       "std   6.248887  6.266795  6.367270  6.416041  6.284241  6.161170  6.045439   \n",
       "\n",
       "          2017      2018      2019      2020      2021  \n",
       "mean  7.668626  7.426429  7.243736  8.420934  8.390879  \n",
       "std   5.902152  5.818915  5.696573  6.040915  6.067192  "
      ]
     },
     "execution_count": 524,
     "metadata": {},
     "output_type": "execute_result"
    }
   ],
   "source": [
    "#Exercise 4\n",
    "# unenployment.agg([\"mean\", \"std\"])\n",
    "numeric_cols = list(unenployment.select_dtypes(include = np.number).columns)\n",
    "unenployment[numeric_cols].agg([\"mean\", \"std\"])"
   ]
  },
  {
   "cell_type": "code",
   "execution_count": 525,
   "metadata": {},
   "outputs": [
    {
     "data": {
      "text/html": [
       "<div>\n",
       "<style scoped>\n",
       "    .dataframe tbody tr th:only-of-type {\n",
       "        vertical-align: middle;\n",
       "    }\n",
       "\n",
       "    .dataframe tbody tr th {\n",
       "        vertical-align: top;\n",
       "    }\n",
       "\n",
       "    .dataframe thead tr th {\n",
       "        text-align: left;\n",
       "    }\n",
       "\n",
       "    .dataframe thead tr:last-of-type th {\n",
       "        text-align: right;\n",
       "    }\n",
       "</style>\n",
       "<table border=\"1\" class=\"dataframe\">\n",
       "  <thead>\n",
       "    <tr>\n",
       "      <th></th>\n",
       "      <th colspan=\"2\" halign=\"left\">2010</th>\n",
       "      <th colspan=\"2\" halign=\"left\">2011</th>\n",
       "      <th colspan=\"2\" halign=\"left\">2012</th>\n",
       "      <th colspan=\"2\" halign=\"left\">2013</th>\n",
       "      <th colspan=\"2\" halign=\"left\">2014</th>\n",
       "      <th>...</th>\n",
       "      <th colspan=\"2\" halign=\"left\">2017</th>\n",
       "      <th colspan=\"2\" halign=\"left\">2018</th>\n",
       "      <th colspan=\"2\" halign=\"left\">2019</th>\n",
       "      <th colspan=\"2\" halign=\"left\">2020</th>\n",
       "      <th colspan=\"2\" halign=\"left\">2021</th>\n",
       "    </tr>\n",
       "    <tr>\n",
       "      <th></th>\n",
       "      <th>mean</th>\n",
       "      <th>std</th>\n",
       "      <th>mean</th>\n",
       "      <th>std</th>\n",
       "      <th>mean</th>\n",
       "      <th>std</th>\n",
       "      <th>mean</th>\n",
       "      <th>std</th>\n",
       "      <th>mean</th>\n",
       "      <th>std</th>\n",
       "      <th>...</th>\n",
       "      <th>mean</th>\n",
       "      <th>std</th>\n",
       "      <th>mean</th>\n",
       "      <th>std</th>\n",
       "      <th>mean</th>\n",
       "      <th>std</th>\n",
       "      <th>mean</th>\n",
       "      <th>std</th>\n",
       "      <th>mean</th>\n",
       "      <th>std</th>\n",
       "    </tr>\n",
       "    <tr>\n",
       "      <th>continent</th>\n",
       "      <th></th>\n",
       "      <th></th>\n",
       "      <th></th>\n",
       "      <th></th>\n",
       "      <th></th>\n",
       "      <th></th>\n",
       "      <th></th>\n",
       "      <th></th>\n",
       "      <th></th>\n",
       "      <th></th>\n",
       "      <th></th>\n",
       "      <th></th>\n",
       "      <th></th>\n",
       "      <th></th>\n",
       "      <th></th>\n",
       "      <th></th>\n",
       "      <th></th>\n",
       "      <th></th>\n",
       "      <th></th>\n",
       "      <th></th>\n",
       "      <th></th>\n",
       "    </tr>\n",
       "  </thead>\n",
       "  <tbody>\n",
       "    <tr>\n",
       "      <th>Africa</th>\n",
       "      <td>9.343585</td>\n",
       "      <td>7.411259</td>\n",
       "      <td>9.369245</td>\n",
       "      <td>7.401556</td>\n",
       "      <td>9.240755</td>\n",
       "      <td>7.264542</td>\n",
       "      <td>9.132453</td>\n",
       "      <td>7.309285</td>\n",
       "      <td>9.121321</td>\n",
       "      <td>7.291359</td>\n",
       "      <td>...</td>\n",
       "      <td>9.284528</td>\n",
       "      <td>7.407620</td>\n",
       "      <td>9.237925</td>\n",
       "      <td>7.358425</td>\n",
       "      <td>9.264340</td>\n",
       "      <td>7.455293</td>\n",
       "      <td>10.307736</td>\n",
       "      <td>7.928166</td>\n",
       "      <td>10.473585</td>\n",
       "      <td>8.131636</td>\n",
       "    </tr>\n",
       "    <tr>\n",
       "      <th>Asia</th>\n",
       "      <td>6.240638</td>\n",
       "      <td>5.146175</td>\n",
       "      <td>5.942128</td>\n",
       "      <td>4.779575</td>\n",
       "      <td>5.835319</td>\n",
       "      <td>4.756904</td>\n",
       "      <td>5.852128</td>\n",
       "      <td>4.668405</td>\n",
       "      <td>5.853191</td>\n",
       "      <td>4.681301</td>\n",
       "      <td>...</td>\n",
       "      <td>6.171277</td>\n",
       "      <td>5.277201</td>\n",
       "      <td>6.090213</td>\n",
       "      <td>5.409128</td>\n",
       "      <td>5.949149</td>\n",
       "      <td>5.254008</td>\n",
       "      <td>7.012340</td>\n",
       "      <td>5.699609</td>\n",
       "      <td>6.906170</td>\n",
       "      <td>5.414745</td>\n",
       "    </tr>\n",
       "    <tr>\n",
       "      <th>Europe</th>\n",
       "      <td>11.008205</td>\n",
       "      <td>6.392063</td>\n",
       "      <td>10.947949</td>\n",
       "      <td>6.539538</td>\n",
       "      <td>11.325641</td>\n",
       "      <td>7.003527</td>\n",
       "      <td>11.466667</td>\n",
       "      <td>6.969209</td>\n",
       "      <td>10.971282</td>\n",
       "      <td>6.759765</td>\n",
       "      <td>...</td>\n",
       "      <td>8.359744</td>\n",
       "      <td>5.177845</td>\n",
       "      <td>7.427436</td>\n",
       "      <td>4.738206</td>\n",
       "      <td>6.764359</td>\n",
       "      <td>4.124734</td>\n",
       "      <td>7.470513</td>\n",
       "      <td>4.071218</td>\n",
       "      <td>7.414872</td>\n",
       "      <td>3.947825</td>\n",
       "    </tr>\n",
       "    <tr>\n",
       "      <th>North America</th>\n",
       "      <td>8.663333</td>\n",
       "      <td>5.115805</td>\n",
       "      <td>8.563333</td>\n",
       "      <td>5.377041</td>\n",
       "      <td>8.448889</td>\n",
       "      <td>5.495819</td>\n",
       "      <td>8.840556</td>\n",
       "      <td>6.081829</td>\n",
       "      <td>8.512222</td>\n",
       "      <td>5.801927</td>\n",
       "      <td>...</td>\n",
       "      <td>7.391111</td>\n",
       "      <td>5.326446</td>\n",
       "      <td>7.281111</td>\n",
       "      <td>5.253180</td>\n",
       "      <td>7.095000</td>\n",
       "      <td>4.770490</td>\n",
       "      <td>9.297778</td>\n",
       "      <td>4.963045</td>\n",
       "      <td>9.155000</td>\n",
       "      <td>5.076482</td>\n",
       "    </tr>\n",
       "    <tr>\n",
       "      <th>Oceania</th>\n",
       "      <td>3.622500</td>\n",
       "      <td>2.054721</td>\n",
       "      <td>3.647500</td>\n",
       "      <td>2.008466</td>\n",
       "      <td>4.103750</td>\n",
       "      <td>2.723118</td>\n",
       "      <td>3.980000</td>\n",
       "      <td>2.640119</td>\n",
       "      <td>3.976250</td>\n",
       "      <td>2.659205</td>\n",
       "      <td>...</td>\n",
       "      <td>3.872500</td>\n",
       "      <td>2.492834</td>\n",
       "      <td>3.851250</td>\n",
       "      <td>2.455893</td>\n",
       "      <td>3.773750</td>\n",
       "      <td>2.369068</td>\n",
       "      <td>4.273750</td>\n",
       "      <td>2.617490</td>\n",
       "      <td>4.280000</td>\n",
       "      <td>2.671522</td>\n",
       "    </tr>\n",
       "    <tr>\n",
       "      <th>South America</th>\n",
       "      <td>6.870833</td>\n",
       "      <td>2.807058</td>\n",
       "      <td>6.518333</td>\n",
       "      <td>2.801577</td>\n",
       "      <td>6.410833</td>\n",
       "      <td>2.936508</td>\n",
       "      <td>6.335000</td>\n",
       "      <td>2.808780</td>\n",
       "      <td>6.347500</td>\n",
       "      <td>2.834332</td>\n",
       "      <td>...</td>\n",
       "      <td>7.281667</td>\n",
       "      <td>3.398994</td>\n",
       "      <td>7.496667</td>\n",
       "      <td>3.408856</td>\n",
       "      <td>7.719167</td>\n",
       "      <td>3.379845</td>\n",
       "      <td>10.275000</td>\n",
       "      <td>3.411263</td>\n",
       "      <td>9.924167</td>\n",
       "      <td>3.611624</td>\n",
       "    </tr>\n",
       "  </tbody>\n",
       "</table>\n",
       "<p>6 rows × 24 columns</p>\n",
       "</div>"
      ],
      "text/plain": [
       "                    2010                 2011                 2012            \\\n",
       "                    mean       std       mean       std       mean       std   \n",
       "continent                                                                      \n",
       "Africa          9.343585  7.411259   9.369245  7.401556   9.240755  7.264542   \n",
       "Asia            6.240638  5.146175   5.942128  4.779575   5.835319  4.756904   \n",
       "Europe         11.008205  6.392063  10.947949  6.539538  11.325641  7.003527   \n",
       "North America   8.663333  5.115805   8.563333  5.377041   8.448889  5.495819   \n",
       "Oceania         3.622500  2.054721   3.647500  2.008466   4.103750  2.723118   \n",
       "South America   6.870833  2.807058   6.518333  2.801577   6.410833  2.936508   \n",
       "\n",
       "                    2013                 2014            ...      2017  \\\n",
       "                    mean       std       mean       std  ...      mean   \n",
       "continent                                                ...             \n",
       "Africa          9.132453  7.309285   9.121321  7.291359  ...  9.284528   \n",
       "Asia            5.852128  4.668405   5.853191  4.681301  ...  6.171277   \n",
       "Europe         11.466667  6.969209  10.971282  6.759765  ...  8.359744   \n",
       "North America   8.840556  6.081829   8.512222  5.801927  ...  7.391111   \n",
       "Oceania         3.980000  2.640119   3.976250  2.659205  ...  3.872500   \n",
       "South America   6.335000  2.808780   6.347500  2.834332  ...  7.281667   \n",
       "\n",
       "                             2018                2019                 2020  \\\n",
       "                    std      mean       std      mean       std       mean   \n",
       "continent                                                                    \n",
       "Africa         7.407620  9.237925  7.358425  9.264340  7.455293  10.307736   \n",
       "Asia           5.277201  6.090213  5.409128  5.949149  5.254008   7.012340   \n",
       "Europe         5.177845  7.427436  4.738206  6.764359  4.124734   7.470513   \n",
       "North America  5.326446  7.281111  5.253180  7.095000  4.770490   9.297778   \n",
       "Oceania        2.492834  3.851250  2.455893  3.773750  2.369068   4.273750   \n",
       "South America  3.398994  7.496667  3.408856  7.719167  3.379845  10.275000   \n",
       "\n",
       "                              2021            \n",
       "                    std       mean       std  \n",
       "continent                                     \n",
       "Africa         7.928166  10.473585  8.131636  \n",
       "Asia           5.699609   6.906170  5.414745  \n",
       "Europe         4.071218   7.414872  3.947825  \n",
       "North America  4.963045   9.155000  5.076482  \n",
       "Oceania        2.617490   4.280000  2.671522  \n",
       "South America  3.411263   9.924167  3.611624  \n",
       "\n",
       "[6 rows x 24 columns]"
      ]
     },
     "execution_count": 525,
     "metadata": {},
     "output_type": "execute_result"
    }
   ],
   "source": [
    "#Exercise 4.2\n",
    "unenployment.groupby(\"continent\")[numeric_cols].agg([\"mean\", \"std\"])"
   ]
  },
  {
   "cell_type": "code",
   "execution_count": 526,
   "metadata": {},
   "outputs": [
    {
     "data": {
      "text/html": [
       "<div>\n",
       "<style scoped>\n",
       "    .dataframe tbody tr th:only-of-type {\n",
       "        vertical-align: middle;\n",
       "    }\n",
       "\n",
       "    .dataframe tbody tr th {\n",
       "        vertical-align: top;\n",
       "    }\n",
       "\n",
       "    .dataframe thead th {\n",
       "        text-align: right;\n",
       "    }\n",
       "</style>\n",
       "<table border=\"1\" class=\"dataframe\">\n",
       "  <thead>\n",
       "    <tr style=\"text-align: right;\">\n",
       "      <th></th>\n",
       "      <th>mean_rate_2021</th>\n",
       "      <th>std_rate_2021</th>\n",
       "    </tr>\n",
       "    <tr>\n",
       "      <th>continent</th>\n",
       "      <th></th>\n",
       "      <th></th>\n",
       "    </tr>\n",
       "  </thead>\n",
       "  <tbody>\n",
       "    <tr>\n",
       "      <th>Africa</th>\n",
       "      <td>10.473585</td>\n",
       "      <td>8.131636</td>\n",
       "    </tr>\n",
       "    <tr>\n",
       "      <th>Asia</th>\n",
       "      <td>6.906170</td>\n",
       "      <td>5.414745</td>\n",
       "    </tr>\n",
       "    <tr>\n",
       "      <th>Europe</th>\n",
       "      <td>7.414872</td>\n",
       "      <td>3.947825</td>\n",
       "    </tr>\n",
       "    <tr>\n",
       "      <th>North America</th>\n",
       "      <td>9.155000</td>\n",
       "      <td>5.076482</td>\n",
       "    </tr>\n",
       "    <tr>\n",
       "      <th>Oceania</th>\n",
       "      <td>4.280000</td>\n",
       "      <td>2.671522</td>\n",
       "    </tr>\n",
       "    <tr>\n",
       "      <th>South America</th>\n",
       "      <td>9.924167</td>\n",
       "      <td>3.611624</td>\n",
       "    </tr>\n",
       "  </tbody>\n",
       "</table>\n",
       "</div>"
      ],
      "text/plain": [
       "               mean_rate_2021  std_rate_2021\n",
       "continent                                   \n",
       "Africa              10.473585       8.131636\n",
       "Asia                 6.906170       5.414745\n",
       "Europe               7.414872       3.947825\n",
       "North America        9.155000       5.076482\n",
       "Oceania              4.280000       2.671522\n",
       "South America        9.924167       3.611624"
      ]
     },
     "execution_count": 526,
     "metadata": {},
     "output_type": "execute_result"
    }
   ],
   "source": [
    "#Exercise 5\n",
    "continent_summary = unenployment.groupby(\"continent\").agg(\n",
    "    mean_rate_2021 = ('2021', 'mean'),\n",
    "    std_rate_2021 = ('2021', 'std')\n",
    ")\n",
    "continent_summary"
   ]
  },
  {
   "cell_type": "code",
   "execution_count": 527,
   "metadata": {},
   "outputs": [
    {
     "data": {
      "image/png": "[encoded data removed]",
      "text/plain": [
       "<Figure size 800x600 with 1 Axes>"
      ]
     },
     "metadata": {},
     "output_type": "display_data"
    }
   ],
   "source": [
    "#Exercies 6\n",
    "sns.barplot(data = unenployment, x = \"continent\", y = \"2021\")\n",
    "plt.show()"
   ]
  },
  {
   "cell_type": "code",
   "execution_count": 528,
   "metadata": {},
   "outputs": [
    {
     "name": "stdout",
     "output_type": "stream",
     "text": [
      "Working_Year            0\n",
      "Designation             0\n",
      "Experience              0\n",
      "Employment_Status       0\n",
      "Employee_Location       0\n",
      "Company_Size            0\n",
      "Remote_Working_Ratio    0\n",
      "Salary_USD              0\n",
      "dtype: int64\n",
      "       Working_Year  Remote_Working_Ratio     Salary_USD\n",
      "count    607.000000             607.00000     607.000000\n",
      "mean    2021.405272              70.92257  107225.836903\n",
      "std        0.692133              40.70913   67752.393254\n",
      "min     2020.000000               0.00000    2730.000000\n",
      "25%     2021.000000              50.00000   59893.000000\n",
      "50%     2022.000000             100.00000   96982.000000\n",
      "75%     2022.000000             100.00000  143225.000000\n",
      "max     2022.000000             100.00000  572900.000000\n"
     ]
    }
   ],
   "source": [
    "salaries = pd.read_csv('ds_salaries_clean.csv')\n",
    "print(salaries.isna().sum())\n",
    "print(salaries.describe())"
   ]
  },
  {
   "cell_type": "code",
   "execution_count": 529,
   "metadata": {},
   "outputs": [
    {
     "data": {
      "text/plain": [
       "30.35"
      ]
     },
     "execution_count": 529,
     "metadata": {},
     "output_type": "execute_result"
    }
   ],
   "source": [
    "threshold = len(salaries)*0.05\n",
    "threshold"
   ]
  },
  {
   "cell_type": "code",
   "execution_count": 530,
   "metadata": {},
   "outputs": [
    {
     "name": "stdout",
     "output_type": "stream",
     "text": [
      "Index(['Working_Year', 'Designation', 'Experience', 'Employment_Status',\n",
      "       'Employee_Location', 'Company_Size', 'Remote_Working_Ratio',\n",
      "       'Salary_USD'],\n",
      "      dtype='object')\n"
     ]
    }
   ],
   "source": [
    "cols_to_drop = salaries.columns[salaries.isna().sum()<=threshold]\n",
    "print(cols_to_drop)"
   ]
  },
  {
   "cell_type": "code",
   "execution_count": 531,
   "metadata": {},
   "outputs": [
    {
     "name": "stdout",
     "output_type": "stream",
     "text": [
      "Index([], dtype='object')\n"
     ]
    }
   ],
   "source": [
    "cols_with_missing_values = salaries.columns[salaries.isna().sum()>0]\n",
    "print(cols_with_missing_values)"
   ]
  },
  {
   "cell_type": "code",
   "execution_count": 532,
   "metadata": {},
   "outputs": [
    {
     "name": "stdout",
     "output_type": "stream",
     "text": [
      "Working_Year            0\n",
      "Designation             0\n",
      "Experience              0\n",
      "Employment_Status       0\n",
      "Employee_Location       0\n",
      "Company_Size            0\n",
      "Remote_Working_Ratio    0\n",
      "Salary_USD              0\n",
      "dtype: int64\n"
     ]
    }
   ],
   "source": [
    "for col in cols_with_missing_values[:-1]:\n",
    "    salaries[col].fillna(salaries[col].mode()[0])\n",
    "\n",
    "print(salaries.isna().sum())"
   ]
  },
  {
   "cell_type": "code",
   "execution_count": 533,
   "metadata": {},
   "outputs": [
    {
     "data": {
      "text/plain": [
       "{'Entry': 53948.0, 'Executive': 163694.5, 'Mid': 73465.0, 'Senior': 129380.0}"
      ]
     },
     "execution_count": 533,
     "metadata": {},
     "output_type": "execute_result"
    }
   ],
   "source": [
    "salaries.dropna(subset=cols_to_drop,inplace=True)\n",
    "\n",
    "salaries_dict = salaries.groupby('Experience')['Salary_USD'].median().to_dict()\n",
    "salaries_dict"
   ]
  },
  {
   "cell_type": "code",
   "execution_count": 534,
   "metadata": {},
   "outputs": [
    {
     "data": {
      "text/html": [
       "<div>\n",
       "<style scoped>\n",
       "    .dataframe tbody tr th:only-of-type {\n",
       "        vertical-align: middle;\n",
       "    }\n",
       "\n",
       "    .dataframe tbody tr th {\n",
       "        vertical-align: top;\n",
       "    }\n",
       "\n",
       "    .dataframe thead th {\n",
       "        text-align: right;\n",
       "    }\n",
       "</style>\n",
       "<table border=\"1\" class=\"dataframe\">\n",
       "  <thead>\n",
       "    <tr style=\"text-align: right;\">\n",
       "      <th></th>\n",
       "      <th>Airline</th>\n",
       "      <th>Date_of_Journey</th>\n",
       "      <th>Source</th>\n",
       "      <th>Destination</th>\n",
       "      <th>Route</th>\n",
       "      <th>Dep_Time</th>\n",
       "      <th>Arrival_Time</th>\n",
       "      <th>Duration</th>\n",
       "      <th>Total_Stops</th>\n",
       "      <th>Additional_Info</th>\n",
       "      <th>Price</th>\n",
       "    </tr>\n",
       "  </thead>\n",
       "  <tbody>\n",
       "    <tr>\n",
       "      <th>0</th>\n",
       "      <td>Jet Airways</td>\n",
       "      <td>9/6/2019</td>\n",
       "      <td>Delhi</td>\n",
       "      <td>Cochin</td>\n",
       "      <td>DEL → LKO → BOM → COK</td>\n",
       "      <td>9:25</td>\n",
       "      <td>10/6/2023 4:25</td>\n",
       "      <td>19h</td>\n",
       "      <td>2 stops</td>\n",
       "      <td>No info</td>\n",
       "      <td>13882.0</td>\n",
       "    </tr>\n",
       "    <tr>\n",
       "      <th>1</th>\n",
       "      <td>IndiGo</td>\n",
       "      <td>12/5/2019</td>\n",
       "      <td>Kolkata</td>\n",
       "      <td>Banglore</td>\n",
       "      <td>CCU → NAG → BLR</td>\n",
       "      <td>18:05</td>\n",
       "      <td>23:30</td>\n",
       "      <td>5h 25m</td>\n",
       "      <td>1 stop</td>\n",
       "      <td>No info</td>\n",
       "      <td>6218.0</td>\n",
       "    </tr>\n",
       "    <tr>\n",
       "      <th>2</th>\n",
       "      <td>IndiGo</td>\n",
       "      <td>1/3/2019</td>\n",
       "      <td>Banglore</td>\n",
       "      <td>New Delhi</td>\n",
       "      <td>BLR → NAG → DEL</td>\n",
       "      <td>16:50</td>\n",
       "      <td>21:35</td>\n",
       "      <td>4h 45m</td>\n",
       "      <td>1 stop</td>\n",
       "      <td>No info</td>\n",
       "      <td>13302.0</td>\n",
       "    </tr>\n",
       "    <tr>\n",
       "      <th>3</th>\n",
       "      <td>SpiceJet</td>\n",
       "      <td>24/6/2019</td>\n",
       "      <td>Kolkata</td>\n",
       "      <td>Banglore</td>\n",
       "      <td>CCU → BLR</td>\n",
       "      <td>9:00</td>\n",
       "      <td>11:25</td>\n",
       "      <td>2h 25m</td>\n",
       "      <td>non-stop</td>\n",
       "      <td>No info</td>\n",
       "      <td>3873.0</td>\n",
       "    </tr>\n",
       "    <tr>\n",
       "      <th>4</th>\n",
       "      <td>Jet Airways</td>\n",
       "      <td>12/3/2019</td>\n",
       "      <td>Banglore</td>\n",
       "      <td>New Delhi</td>\n",
       "      <td>BLR → BOM → DEL</td>\n",
       "      <td>18:55</td>\n",
       "      <td>13/3/2023 10:25</td>\n",
       "      <td>15h 30m</td>\n",
       "      <td>1 stop</td>\n",
       "      <td>In-flight meal not included</td>\n",
       "      <td>11087.0</td>\n",
       "    </tr>\n",
       "  </tbody>\n",
       "</table>\n",
       "</div>"
      ],
      "text/plain": [
       "       Airline Date_of_Journey    Source Destination                  Route  \\\n",
       "0  Jet Airways        9/6/2019     Delhi      Cochin  DEL → LKO → BOM → COK   \n",
       "1       IndiGo       12/5/2019   Kolkata    Banglore        CCU → NAG → BLR   \n",
       "2       IndiGo        1/3/2019  Banglore   New Delhi        BLR → NAG → DEL   \n",
       "3     SpiceJet       24/6/2019   Kolkata    Banglore              CCU → BLR   \n",
       "4  Jet Airways       12/3/2019  Banglore   New Delhi        BLR → BOM → DEL   \n",
       "\n",
       "  Dep_Time     Arrival_Time Duration Total_Stops              Additional_Info  \\\n",
       "0     9:25   10/6/2023 4:25      19h     2 stops                      No info   \n",
       "1    18:05            23:30   5h 25m      1 stop                      No info   \n",
       "2    16:50            21:35   4h 45m      1 stop                      No info   \n",
       "3     9:00            11:25   2h 25m    non-stop                      No info   \n",
       "4    18:55  13/3/2023 10:25  15h 30m      1 stop  In-flight meal not included   \n",
       "\n",
       "     Price  \n",
       "0  13882.0  \n",
       "1   6218.0  \n",
       "2  13302.0  \n",
       "3   3873.0  \n",
       "4  11087.0  "
      ]
     },
     "execution_count": 534,
     "metadata": {},
     "output_type": "execute_result"
    }
   ],
   "source": [
    "#Exercise 7\n",
    "planes = pd.read_csv('Airlines_unclean.csv', index_col= 0)\n",
    "planes.head()"
   ]
  },
  {
   "cell_type": "code",
   "execution_count": 535,
   "metadata": {},
   "outputs": [
    {
     "name": "stdout",
     "output_type": "stream",
     "text": [
      "<class 'pandas.core.frame.DataFrame'>\n",
      "Index: 10660 entries, 0 to 10659\n",
      "Data columns (total 11 columns):\n",
      " #   Column           Non-Null Count  Dtype  \n",
      "---  ------           --------------  -----  \n",
      " 0   Airline          10233 non-null  object \n",
      " 1   Date_of_Journey  10338 non-null  object \n",
      " 2   Source           10473 non-null  object \n",
      " 3   Destination      10313 non-null  object \n",
      " 4   Route            10404 non-null  object \n",
      " 5   Dep_Time         10400 non-null  object \n",
      " 6   Arrival_Time     10466 non-null  object \n",
      " 7   Duration         10446 non-null  object \n",
      " 8   Total_Stops      10448 non-null  object \n",
      " 9   Additional_Info  10071 non-null  object \n",
      " 10  Price            10044 non-null  float64\n",
      "dtypes: float64(1), object(10)\n",
      "memory usage: 999.4+ KB\n"
     ]
    }
   ],
   "source": [
    "planes.info()"
   ]
  },
  {
   "cell_type": "code",
   "execution_count": 536,
   "metadata": {},
   "outputs": [
    {
     "name": "stdout",
     "output_type": "stream",
     "text": [
      "Airline            427\n",
      "Date_of_Journey    322\n",
      "Source             187\n",
      "Destination        347\n",
      "Route              256\n",
      "Dep_Time           260\n",
      "Arrival_Time       194\n",
      "Duration           214\n",
      "Total_Stops        212\n",
      "Additional_Info    589\n",
      "Price              616\n",
      "dtype: int64\n"
     ]
    }
   ],
   "source": [
    "print(planes.isna().sum())"
   ]
  },
  {
   "cell_type": "code",
   "execution_count": 537,
   "metadata": {},
   "outputs": [
    {
     "name": "stdout",
     "output_type": "stream",
     "text": [
      "533.0\n",
      "--------------------------------------------------\n",
      "Airline              0\n",
      "Date_of_Journey      0\n",
      "Source               0\n",
      "Destination          0\n",
      "Route                0\n",
      "Dep_Time             0\n",
      "Arrival_Time         0\n",
      "Duration             0\n",
      "Total_Stops          0\n",
      "Additional_Info    300\n",
      "Price              368\n",
      "dtype: int64\n"
     ]
    }
   ],
   "source": [
    "threshold = len(planes)*0.05\n",
    "print(threshold)\n",
    "\n",
    "print('-'* 50)\n",
    "\n",
    "cols_to_drop = planes.columns[planes.isna().sum() <= threshold]\n",
    "\n",
    "planes.dropna(subset = cols_to_drop, inplace = True)\n",
    "\n",
    "print(planes.isna().sum())"
   ]
  },
  {
   "cell_type": "code",
   "execution_count": 538,
   "metadata": {},
   "outputs": [
    {
     "data": {
      "text/plain": [
       "(8508, 11)"
      ]
     },
     "execution_count": 538,
     "metadata": {},
     "output_type": "execute_result"
    }
   ],
   "source": [
    "planes.shape"
   ]
  },
  {
   "cell_type": "code",
   "execution_count": 539,
   "metadata": {},
   "outputs": [
    {
     "name": "stdout",
     "output_type": "stream",
     "text": [
      "Additional_Info\n",
      "No info                         6399\n",
      "In-flight meal not included     1525\n",
      "No check-in baggage included     258\n",
      "1 Long layover                    14\n",
      "Change airports                    7\n",
      "No Info                            2\n",
      "Business class                     1\n",
      "Red-eye flight                     1\n",
      "2 Long layover                     1\n",
      "Name: count, dtype: int64\n"
     ]
    }
   ],
   "source": [
    "print(planes['Additional_Info'].value_counts())"
   ]
  },
  {
   "cell_type": "code",
   "execution_count": 540,
   "metadata": {},
   "outputs": [
    {
     "data": {
      "image/png": "[encoded data removed]",
      "text/plain": [
       "<Figure size 800x600 with 1 Axes>"
      ]
     },
     "metadata": {},
     "output_type": "display_data"
    }
   ],
   "source": [
    "sns.boxplot(data=planes, x='Airline', y='Price')\n",
    "sns.set(rc={\"figure.figsize\":(8, 6)}) #width=8, #height=6\n",
    "plt.show()"
   ]
  },
  {
   "cell_type": "code",
   "execution_count": 541,
   "metadata": {},
   "outputs": [
    {
     "name": "stdout",
     "output_type": "stream",
     "text": [
      "Index(['Airline', 'Date_of_Journey', 'Source', 'Destination', 'Route',\n",
      "       'Dep_Time', 'Arrival_Time', 'Duration', 'Total_Stops',\n",
      "       'Additional_Info', 'Price'],\n",
      "      dtype='object')\n"
     ]
    }
   ],
   "source": [
    "print(planes.columns)"
   ]
  },
  {
   "cell_type": "code",
   "execution_count": 542,
   "metadata": {},
   "outputs": [
    {
     "name": "stdout",
     "output_type": "stream",
     "text": [
      "Index(['Airline', 'Date_of_Journey', 'Source', 'Destination', 'Route',\n",
      "       'Dep_Time', 'Arrival_Time', 'Duration', 'Total_Stops', 'Price'],\n",
      "      dtype='object')\n",
      "{'Air Asia': 5192.0, 'Air India': 9443.0, 'GoAir': 5003.5, 'IndiGo': 5054.0, 'Jet Airways': 11507.0, 'Multiple carriers': 10197.0, 'SpiceJet': 3873.0, 'Vistara': 8028.0}\n",
      "Airline            0\n",
      "Date_of_Journey    0\n",
      "Source             0\n",
      "Destination        0\n",
      "Route              0\n",
      "Dep_Time           0\n",
      "Arrival_Time       0\n",
      "Duration           0\n",
      "Total_Stops        0\n",
      "Price              0\n",
      "dtype: int64\n"
     ]
    }
   ],
   "source": [
    "#Exercise 8\n",
    "planes = planes.drop(columns =  ['Additional_Info'])\n",
    "\n",
    "print(planes.columns)\n",
    "\n",
    "planes_dict = planes.groupby(\"Airline\")['Price'].median().to_dict()\n",
    "print(planes_dict)\n",
    "\n",
    "planes[\"Price\"] = planes[\"Price\"].fillna(planes[\"Airline\"].map(planes_dict))\n",
    "print(planes.isna().sum())"
   ]
  },
  {
   "cell_type": "code",
   "execution_count": 543,
   "metadata": {},
   "outputs": [
    {
     "name": "stdout",
     "output_type": "stream",
     "text": [
      "Number of unique values in Airline column:  8\n",
      "Number of unique values in Date_of_Journey column:  40\n",
      "Number of unique values in Source column:  5\n",
      "Number of unique values in Destination column:  6\n",
      "Number of unique values in Route column:  122\n",
      "Number of unique values in Dep_Time column:  218\n",
      "Number of unique values in Arrival_Time column:  1220\n",
      "Number of unique values in Duration column:  362\n",
      "Number of unique values in Total_Stops column:  5\n"
     ]
    }
   ],
   "source": [
    "# Filter the DataFrame for object columns\n",
    "non_numeric = planes.select_dtypes(\"object\")\n",
    "\n",
    "# Loop through columns\n",
    "for col in non_numeric.columns:\n",
    "\n",
    "# Print the number of unique values\n",
    "    print(f\"Number of unique values in {col} column: \",\n",
    "    non_numeric[col].nunique())"
   ]
  },
  {
   "cell_type": "code",
   "execution_count": 544,
   "metadata": {},
   "outputs": [
    {
     "data": {
      "text/plain": [
       "0        19h\n",
       "1     5h 25m\n",
       "2     4h 45m\n",
       "3     2h 25m\n",
       "4    15h 30m\n",
       "Name: Duration, dtype: object"
      ]
     },
     "execution_count": 544,
     "metadata": {},
     "output_type": "execute_result"
    }
   ],
   "source": [
    "planes[\"Duration\"].head()"
   ]
  },
  {
   "cell_type": "code",
   "execution_count": 545,
   "metadata": {},
   "outputs": [
    {
     "name": "stdout",
     "output_type": "stream",
     "text": [
      "Airline            0\n",
      "Date_of_Journey    0\n",
      "Source             0\n",
      "Destination        0\n",
      "Route              0\n",
      "Dep_Time           0\n",
      "Arrival_Time       0\n",
      "Duration           0\n",
      "Total_Stops        0\n",
      "Price              0\n",
      "dtype: int64\n"
     ]
    }
   ],
   "source": [
    "print(planes.isna().sum())"
   ]
  },
  {
   "cell_type": "code",
   "execution_count": 546,
   "metadata": {},
   "outputs": [],
   "source": [
    "flight_categories = [\"Short-haul\", \"Medium\", \"Long-haul\"]\n",
    "\n",
    "short_flights = \"0h|1h|2h|3h|4h\"\n",
    "\n",
    "mid_flights = \"5h|6h|7h|8h|9h\"\n",
    "\n",
    "long_flights = \"10h|11h|12h|13h|14h|15h|16h\""
   ]
  },
  {
   "cell_type": "code",
   "execution_count": 547,
   "metadata": {},
   "outputs": [
    {
     "name": "stdout",
     "output_type": "stream",
     "text": [
      "  Duration Duration_Category\n",
      "0      19h            Medium\n",
      "1   5h 25m            Medium\n",
      "2   4h 45m        Short-haul\n",
      "3   2h 25m        Short-haul\n",
      "4  15h 30m            Medium\n",
      "Missing values in Duration_Category: 0\n"
     ]
    },
    {
     "data": {
      "image/png": "[encoded data removed]",
      "text/plain": [
       "<Figure size 800x600 with 1 Axes>"
      ]
     },
     "metadata": {},
     "output_type": "display_data"
    }
   ],
   "source": [
    "conditions = [(planes[\"Duration\"].str.contains(\"0h|1h|2h|3h|4h\")),\n",
    "              (planes[\"Duration\"].str.contains(\"5h|6h|7h|8h|9h\")),\n",
    "              (planes[\"Duration\"].str.contains(long_flights))]\n",
    "\n",
    "# print(planes[['Duration', 'Duration_Category']].head(5))\n",
    "# Apply the conditions list to the flight_categories\n",
    "planes[\"Duration_Category\"] = np.select(conditions, \n",
    "                                        flight_categories,\n",
    "                                        default=\"Extreme duration\")\n",
    "\n",
    "# Print the first few rows to inspect the data\n",
    "print(planes[['Duration', 'Duration_Category']].head(5))\n",
    "\n",
    "# Check for missing values in the new column\n",
    "print(\"Missing values in Duration_Category:\", planes[\"Duration_Category\"].isnull().sum())\n",
    "\n",
    "# Plot the counts of each category\n",
    "sns.countplot(data=planes, x=\"Duration_Category\")\n",
    "plt.show()"
   ]
  },
  {
   "cell_type": "code",
   "execution_count": 548,
   "metadata": {},
   "outputs": [
    {
     "name": "stdout",
     "output_type": "stream",
     "text": [
      "  Duration Duration_Category\n",
      "0      19h  Extreme duration\n",
      "1   5h 25m            Medium\n",
      "2   4h 45m        Short-haul\n",
      "3   2h 25m        Short-haul\n",
      "4  15h 30m         Long-haul\n"
     ]
    },
    {
     "data": {
      "image/png": "[encoded data removed]",
      "text/plain": [
       "<Figure size 800x600 with 1 Axes>"
      ]
     },
     "metadata": {},
     "output_type": "display_data"
    }
   ],
   "source": [
    "conditions = [\n",
    "    (planes[\"Duration\"].str.contains('(?<![1-9])0h|(?<![1-9])1h|(?<![1-9])2h|(?<![1-9])3h|(?<![1-9])4h', regex = True)),\n",
    "    (planes[\"Duration\"].str.contains(\"(?<![1-9])5h|(?<![1-9])6h|(?<![1-9])7h|(?<![1-9])8h|(?<![1-9])9h\", regex = True)), \n",
    "    (planes[\"Duration\"].str.contains(\"10h|11h|12h|13h|14h|15h|16h\"))\n",
    "]\n",
    "\n",
    "# Apply the conditions list to the flight_categories\n",
    "planes[\"Duration_Category\"] = np.select(conditions, \n",
    "                                        flight_categories,\n",
    "                                        default=\"Extreme duration\")\n",
    "\n",
    "# Plot the counts of each category\n",
    "print(planes[['Duration','Duration_Category']].head(5))\n",
    "sns.countplot(data=planes, x=\"Duration_Category\")\n",
    "plt.show()"
   ]
  },
  {
   "cell_type": "code",
   "execution_count": null,
   "metadata": {},
   "outputs": [
    {
     "name": "stdout",
     "output_type": "stream",
     "text": [
      "   Duration Duration_Category\n",
      "0       19h      Extreme-haul\n",
      "1    5h 25m       Medium-haul\n",
      "2    4h 45m        Short-haul\n",
      "3    2h 25m        Short-haul\n",
      "4   15h 30m         Long-haul\n",
      "5    21h 5m      Extreme-haul\n",
      "6   25h 30m      Extreme-haul\n",
      "7    7h 50m       Medium-haul\n",
      "8   13h 15m         Long-haul\n",
      "9    2h 35m        Short-haul\n",
      "10   2h 15m        Short-haul\n",
      "11  12h 10m         Long-haul\n",
      "12   2h 35m        Short-haul\n",
      "13  26h 35m      Extreme-haul\n",
      "14   4h 30m        Short-haul\n",
      "15  22h 35m      Extreme-haul\n",
      "16      23h      Extreme-haul\n",
      "17  20h 35m      Extreme-haul\n",
      "18   5h 10m       Medium-haul\n",
      "19  15h 20m         Long-haul\n",
      "20   2h 50m        Short-haul\n",
      "21   2h 55m        Short-haul\n",
      "22  13h 20m         Long-haul\n",
      "23  15h 10m         Long-haul\n",
      "24   5h 45m       Medium-haul\n",
      "25   5h 55m       Medium-haul\n",
      "26   2h 50m        Short-haul\n",
      "27   2h 15m        Short-haul\n",
      "28   2h 15m        Short-haul\n",
      "29  13h 25m         Long-haul\n"
     ]
    },
    {
     "data": {
      "image/png": "[encoded data removed]",
      "text/plain": [
       "<Figure size 800x600 with 1 Axes>"
      ]
     },
     "metadata": {},
     "output_type": "display_data"
    }
   ],
   "source": [
    "flight_categories = ['Extreme-haul',\"Long-haul\", \"Medium-haul\", \"Short-haul\"]\n",
    "\n",
    "# Create conditions for values in flight_categories to be created\n",
    "conditions = [\n",
    "    (planes[\"Duration\"].str.contains(\"17h|18h|19h|20h|21h|22h|23h|24h|25h|26h|27h|28h\")),\n",
    "    (planes[\"Duration\"].str.contains(\"10h|11h|12h|13h|14h|15h|16h\")),\n",
    "    (planes[\"Duration\"].str.contains(\"5h|6h|7h|8h|9h\")),\n",
    "    (planes[\"Duration\"].str.contains('0h|1h|2h|3h|4h'))\n",
    "]\n",
    "\n",
    "# Apply the conditions list to the flight_categories\n",
    "planes['Duration_Category'] = np.select(conditions,flight_categories,default='Godlike duration')\n",
    "\n",
    "# Plot the counts of each category\n",
    "print(planes[['Duration','Duration_Category']].head(30))\n",
    "sns.countplot(data=planes, x=\"Duration_Category\")\n",
    "plt.show()"
   ]
  },
  {
   "cell_type": "code",
   "execution_count": 550,
   "metadata": {},
   "outputs": [
    {
     "name": "stdout",
     "output_type": "stream",
     "text": [
      "0        19h\n",
      "1     5h 25m\n",
      "2     4h 45m\n",
      "3     2h 25m\n",
      "4    15h 30m\n",
      "Name: Duration, dtype: object\n"
     ]
    }
   ],
   "source": [
    "print(planes['Duration'].head())\n",
    "\n",
    "planes[\"Duration\"] = planes['Duration'].str.replace(\"h\", \".\")\n",
    "planes[\"Duration\"] = planes[\"Duration\"].str.replace(\"m\", \"\")\n",
    "planes[\"Duration\"] = planes[\"Duration\"].str.replace(\" \", \"\")\n",
    "planes[\"Duration\"] = planes[\"Duration\"].astype(\"float\")"
   ]
  },
  {
   "cell_type": "code",
   "execution_count": 551,
   "metadata": {},
   "outputs": [
    {
     "name": "stdout",
     "output_type": "stream",
     "text": [
      "Airline            airline_price_std_dev\n",
      "Jet Airways        4159.846432              3082\n",
      "IndiGo             2245.529140              1632\n",
      "Air India          3692.609285              1399\n",
      "Multiple carriers  3558.323763               959\n",
      "SpiceJet           1798.900648               653\n",
      "Vistara            2888.915498               376\n",
      "Air Asia           1979.826234               260\n",
      "GoAir              2764.926625               147\n",
      "Name: count, dtype: int64\n"
     ]
    }
   ],
   "source": [
    "#Exercise 12.1\n",
    "planes[\"airline_price_std_dev\"] = planes.groupby(\"Airline\")[\"Price\"].transform(lambda x: x.std())\n",
    "\n",
    "print(planes[[\"Airline\", \"airline_price_std_dev\"]].value_counts())"
   ]
  },
  {
   "cell_type": "code",
   "execution_count": 552,
   "metadata": {},
   "outputs": [
    {
     "name": "stdout",
     "output_type": "stream",
     "text": [
      "Airline            airline_median_duration\n",
      "Jet Airways        13.20                      3082\n",
      "IndiGo             2.55                       1632\n",
      "Air India          15.50                      1399\n",
      "Multiple carriers  10.15                       959\n",
      "SpiceJet           2.30                        653\n",
      "Vistara            3.10                        376\n",
      "Air Asia           2.50                        260\n",
      "GoAir              2.55                        147\n",
      "Name: count, dtype: int64\n"
     ]
    }
   ],
   "source": [
    "#Exercise 12.2\n",
    "planes[\"airline_median_duration\"] = planes.groupby(\"Airline\")[\"Duration\"].transform(lambda x: x.median())\n",
    "\n",
    "print(planes[[\"Airline\", \"airline_median_duration\"]].value_counts())"
   ]
  },
  {
   "cell_type": "code",
   "execution_count": 553,
   "metadata": {},
   "outputs": [
    {
     "name": "stdout",
     "output_type": "stream",
     "text": [
      "Destination  price_destination_mean\n",
      "Cochin       10473.585927              3631\n",
      "Banglore     9093.622872               2291\n",
      "Delhi        5248.541082                998\n",
      "New Delhi    11579.306944               720\n",
      "Hyderabad    5190.274021                562\n",
      "Kolkata      4907.156863                306\n",
      "Name: count, dtype: int64\n"
     ]
    }
   ],
   "source": [
    "#Exercise 12.3\n",
    "#Exercise 12.2\n",
    "planes[\"price_destination_mean\"] = planes.groupby(\"Destination\")[\"Price\"].transform(lambda x: x.mean())\n",
    "\n",
    "print(planes[[\"Destination\", \"price_destination_mean\"]].value_counts())"
   ]
  }
 ],
 "metadata": {
  "kernelspec": {
   "display_name": "base",
   "language": "python",
   "name": "python3"
  },
  "language_info": {
   "codemirror_mode": {
    "name": "ipython",
    "version": 3
   },
   "file_extension": ".py",
   "mimetype": "text/x-python",
   "name": "python",
   "nbconvert_exporter": "python",
   "pygments_lexer": "ipython3",
   "version": "3.12.7"
  }
 },
 "nbformat": 4,
 "nbformat_minor": 2
}
