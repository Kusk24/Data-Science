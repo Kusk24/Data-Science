{
 "cells": [
  {
   "cell_type": "code",
   "execution_count": 24,
   "metadata": {},
   "outputs": [],
   "source": [
    "import pandas as pd\n",
    "import matplotlib.pyplot as plt\n",
    "import numpy as np\n",
    "import seaborn as sns\n",
    "%matplotlib inline\n",
    "from sklearn.neighbors import KNeighborsClassifier"
   ]
  },
  {
   "cell_type": "code",
   "execution_count": 25,
   "metadata": {},
   "outputs": [
    {
     "name": "stdout",
     "output_type": "stream",
     "text": [
      "********************************************************************************\n",
      "   account_length  total_day_charge  total_eve_charge  total_night_charge  \\\n",
      "0             101             45.85             17.65                9.64   \n",
      "1              73             22.30              9.05                9.98   \n",
      "2              86             24.62             17.53               11.49   \n",
      "3              59             34.73             21.02                9.66   \n",
      "4             129             27.42             18.75               10.11   \n",
      "\n",
      "   total_intl_charge  customer_service_calls  churn  \n",
      "0               1.22                       3      1  \n",
      "1               2.75                       2      0  \n",
      "2               3.13                       4      0  \n",
      "3               3.24                       1      0  \n",
      "4               2.59                       1      0  \n",
      "********************************************************************************\n",
      "(3333, 2) (3333,)\n",
      "(3, 2)\n",
      "Predictions: [1 0 0]\n"
     ]
    }
   ],
   "source": [
    "churn_df = pd.read_csv('churn_df.csv',index_col=0)\n",
    "\n",
    "X = churn_df[['total_day_charge','total_eve_charge']].values\n",
    "y = churn_df['churn'].values\n",
    "\n",
    "print('*'*80)\n",
    "print(churn_df.head())\n",
    "print('*'*80)\n",
    "\n",
    "print(X.shape, y.shape)\n",
    "knn_15 = KNeighborsClassifier(n_neighbors = 15)\n",
    "knn_15.fit(X,y)\n",
    "\n",
    "X_new = np.array([[56.8, 17.5],\n",
    "                 [24.4,24.1],\n",
    "                 [50.1,10.9]])\n",
    "\n",
    "print(X_new.shape)\n",
    "predictions = knn_15.predict(X_new)\n",
    "print(f'Predictions: {predictions}')\n"
   ]
  },
  {
   "cell_type": "code",
   "execution_count": 26,
   "metadata": {},
   "outputs": [
    {
     "name": "stdout",
     "output_type": "stream",
     "text": [
      "Predictions: [0 1 0]\n"
     ]
    }
   ],
   "source": [
    "\n",
    "X = churn_df[['account_length','customer_service_calls']].values\n",
    "y = churn_df['churn'].values\n",
    "\n",
    "# print(X.shape, y.shape)\n",
    "knn = KNeighborsClassifier(n_neighbors = 6)\n",
    "knn.fit(X,y)\n",
    "\n",
    "X_new = np.array([[30.0,17.5],\n",
    "                 [107.0,24.1],\n",
    "                 [213.0,10.9]])\n",
    "\n",
    "# print(X_new.shape)\n",
    "y_pred = knn.predict(X_new)\n",
    "print(f'Predictions: {y_pred}')"
   ]
  },
  {
   "cell_type": "code",
   "execution_count": null,
   "metadata": {},
   "outputs": [],
   "source": []
  }
 ],
 "metadata": {
  "kernelspec": {
   "display_name": "base",
   "language": "python",
   "name": "python3"
  },
  "language_info": {
   "codemirror_mode": {
    "name": "ipython",
    "version": 3
   },
   "file_extension": ".py",
   "mimetype": "text/x-python",
   "name": "python",
   "nbconvert_exporter": "python",
   "pygments_lexer": "ipython3",
   "version": "3.12.7"
  }
 },
 "nbformat": 4,
 "nbformat_minor": 2
}
